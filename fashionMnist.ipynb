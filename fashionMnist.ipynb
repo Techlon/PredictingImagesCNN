{
  "cells": [
    {
      "cell_type": "markdown",
      "metadata": {
        "id": "view-in-github",
        "colab_type": "text"
      },
      "source": [
        "<a href=\"https://colab.research.google.com/github/Techlon/demo/blob/main/fashionMnist.ipynb\" target=\"_parent\"><img src=\"https://colab.research.google.com/assets/colab-badge.svg\" alt=\"Open In Colab\"/></a>"
      ]
    },
    {
      "cell_type": "code",
      "execution_count": 1,
      "metadata": {
        "colab": {
          "base_uri": "https://localhost:8080/"
        },
        "id": "rjGcDW5hflO4",
        "outputId": "eeb7a4d1-537c-4c1e-df68-e1bff3acfe19"
      },
      "outputs": [
        {
          "output_type": "stream",
          "name": "stdout",
          "text": [
            "2.8.0\n"
          ]
        }
      ],
      "source": [
        "import tensorflow as tf\n",
        "print(tf.__version__)"
      ]
    },
    {
      "cell_type": "code",
      "execution_count": 2,
      "metadata": {
        "id": "Xx60cFRsfqXp"
      },
      "outputs": [],
      "source": [
        "import numpy as np\n",
        "import matplotlib.pyplot as plt\n",
        "from tensorflow.keras.layers import Input, Conv2D, Dense, Flatten, Dropout\n",
        "from tensorflow.keras.models import Model"
      ]
    },
    {
      "cell_type": "code",
      "execution_count": 3,
      "metadata": {
        "colab": {
          "base_uri": "https://localhost:8080/"
        },
        "id": "gnbPX9A6gcNC",
        "outputId": "85307c19-602a-428b-c7b9-60fd4135ff1b"
      },
      "outputs": [
        {
          "output_type": "stream",
          "name": "stdout",
          "text": [
            "Downloading data from https://storage.googleapis.com/tensorflow/tf-keras-datasets/train-labels-idx1-ubyte.gz\n",
            "32768/29515 [=================================] - 0s 0us/step\n",
            "40960/29515 [=========================================] - 0s 0us/step\n",
            "Downloading data from https://storage.googleapis.com/tensorflow/tf-keras-datasets/train-images-idx3-ubyte.gz\n",
            "26427392/26421880 [==============================] - 0s 0us/step\n",
            "26435584/26421880 [==============================] - 0s 0us/step\n",
            "Downloading data from https://storage.googleapis.com/tensorflow/tf-keras-datasets/t10k-labels-idx1-ubyte.gz\n",
            "16384/5148 [===============================================================================================] - 0s 0us/step\n",
            "Downloading data from https://storage.googleapis.com/tensorflow/tf-keras-datasets/t10k-images-idx3-ubyte.gz\n",
            "4423680/4422102 [==============================] - 0s 0us/step\n",
            "4431872/4422102 [==============================] - 0s 0us/step\n",
            "x_train.shape: (60000, 28, 28)\n"
          ]
        }
      ],
      "source": [
        "# Load the Data and Flatten it\n",
        "fashion_mnist = tf.keras.datasets.fashion_mnist\n",
        "(x_train, y_train), (x_test, y_test) = fashion_mnist.load_data()\n",
        "x_train, x_test = x_train/255.0, x_test/255.0\n",
        "print (\"x_train.shape:\", x_train.shape)"
      ]
    },
    {
      "cell_type": "code",
      "execution_count": 4,
      "metadata": {
        "colab": {
          "base_uri": "https://localhost:8080/"
        },
        "id": "1FlzS4gOiXq-",
        "outputId": "05cdb079-1334-4c50-f0f6-3fe2bb597143"
      },
      "outputs": [
        {
          "output_type": "stream",
          "name": "stdout",
          "text": [
            "(60000, 28, 28, 1)\n"
          ]
        }
      ],
      "source": [
        "#Since Convolution requires a 3D array, we are going to add a superflous dimension to the 2D array.\n",
        "#Thus we have to call the expand_dims function to expand the array into a 3D\n",
        "x_train = np.expand_dims(x_train, -1)\n",
        "x_test = np.expand_dims(x_test, -1)\n",
        "print (x_train.shape)"
      ]
    },
    {
      "cell_type": "code",
      "execution_count": 5,
      "metadata": {
        "colab": {
          "base_uri": "https://localhost:8080/"
        },
        "id": "jFnrbd09kui5",
        "outputId": "ad4c16e5-83c1-4c52-d532-38a4ba672371"
      },
      "outputs": [
        {
          "output_type": "stream",
          "name": "stdout",
          "text": [
            "Number of Classes 10\n"
          ]
        }
      ],
      "source": [
        "#To Determine The Number of Classes, we would have to cast y to a set because a set gives only unique values\n",
        "k = len(set(y_train))\n",
        "print (\"Number of Classes\", k)"
      ]
    },
    {
      "cell_type": "code",
      "execution_count": 6,
      "metadata": {
        "id": "JOhXwZbOm4wt"
      },
      "outputs": [],
      "source": [
        "#Using Functional API to build the Model\n",
        "i = Input(shape = x_train[0].shape)\n",
        "x = Conv2D(32, (3,3), strides = 2, activation = 'relu') (i)\n",
        "x = Conv2D(64, (3,3), strides = 2, activation = 'relu') (i)\n",
        "x = Conv2D(128, (3,3), strides = 2, activation = 'relu') (i)\n",
        "x = Flatten()(x)\n",
        "x = Dropout(0.2)(x)\n",
        "x = Dense(512, activation = 'relu')(x)\n",
        "x = Dropout(0.2)(x)\n",
        "x = Dense(k, activation = 'softmax') (x)\n",
        "\n",
        "model = Model(i, x)\n"
      ]
    },
    {
      "cell_type": "code",
      "execution_count": 7,
      "metadata": {
        "colab": {
          "base_uri": "https://localhost:8080/"
        },
        "id": "JFRpwEBtCJWj",
        "outputId": "066672ad-2ee2-4486-d9e9-dc9736df89ec"
      },
      "outputs": [
        {
          "output_type": "stream",
          "name": "stdout",
          "text": [
            "Epoch 1/20\n",
            "1875/1875 [==============================] - 30s 10ms/step - loss: 0.3904 - accuracy: 0.8592 - val_loss: 0.3218 - val_accuracy: 0.8789\n",
            "Epoch 2/20\n",
            "1875/1875 [==============================] - 18s 10ms/step - loss: 0.2670 - accuracy: 0.8996 - val_loss: 0.2911 - val_accuracy: 0.8916\n",
            "Epoch 3/20\n",
            "1875/1875 [==============================] - 18s 10ms/step - loss: 0.2127 - accuracy: 0.9204 - val_loss: 0.2762 - val_accuracy: 0.8999\n",
            "Epoch 4/20\n",
            "1875/1875 [==============================] - 19s 10ms/step - loss: 0.1721 - accuracy: 0.9353 - val_loss: 0.2755 - val_accuracy: 0.9060\n",
            "Epoch 5/20\n",
            "1875/1875 [==============================] - 18s 10ms/step - loss: 0.1407 - accuracy: 0.9476 - val_loss: 0.2893 - val_accuracy: 0.9073\n",
            "Epoch 6/20\n",
            "1875/1875 [==============================] - 18s 10ms/step - loss: 0.1174 - accuracy: 0.9558 - val_loss: 0.3062 - val_accuracy: 0.9081\n",
            "Epoch 7/20\n",
            "1875/1875 [==============================] - 18s 10ms/step - loss: 0.0957 - accuracy: 0.9642 - val_loss: 0.3443 - val_accuracy: 0.9049\n",
            "Epoch 8/20\n",
            "1875/1875 [==============================] - 18s 10ms/step - loss: 0.0816 - accuracy: 0.9691 - val_loss: 0.3491 - val_accuracy: 0.9077\n",
            "Epoch 9/20\n",
            "1875/1875 [==============================] - 18s 10ms/step - loss: 0.0703 - accuracy: 0.9735 - val_loss: 0.3653 - val_accuracy: 0.9088\n",
            "Epoch 10/20\n",
            "1875/1875 [==============================] - 18s 10ms/step - loss: 0.0595 - accuracy: 0.9774 - val_loss: 0.4036 - val_accuracy: 0.9090\n",
            "Epoch 11/20\n",
            "1875/1875 [==============================] - 18s 10ms/step - loss: 0.0508 - accuracy: 0.9817 - val_loss: 0.4385 - val_accuracy: 0.9051\n",
            "Epoch 12/20\n",
            "1875/1875 [==============================] - 18s 10ms/step - loss: 0.0466 - accuracy: 0.9830 - val_loss: 0.4637 - val_accuracy: 0.9031\n",
            "Epoch 13/20\n",
            "1875/1875 [==============================] - 18s 10ms/step - loss: 0.0423 - accuracy: 0.9850 - val_loss: 0.4727 - val_accuracy: 0.9057\n",
            "Epoch 14/20\n",
            "1875/1875 [==============================] - 18s 10ms/step - loss: 0.0389 - accuracy: 0.9861 - val_loss: 0.5578 - val_accuracy: 0.9038\n",
            "Epoch 15/20\n",
            "1875/1875 [==============================] - 18s 10ms/step - loss: 0.0355 - accuracy: 0.9876 - val_loss: 0.5416 - val_accuracy: 0.9085\n",
            "Epoch 16/20\n",
            "1875/1875 [==============================] - 18s 10ms/step - loss: 0.0323 - accuracy: 0.9885 - val_loss: 0.5564 - val_accuracy: 0.9040\n",
            "Epoch 17/20\n",
            "1875/1875 [==============================] - 18s 10ms/step - loss: 0.0328 - accuracy: 0.9885 - val_loss: 0.5600 - val_accuracy: 0.9047\n",
            "Epoch 18/20\n",
            "1875/1875 [==============================] - 18s 10ms/step - loss: 0.0276 - accuracy: 0.9905 - val_loss: 0.5786 - val_accuracy: 0.9051\n",
            "Epoch 19/20\n",
            "1875/1875 [==============================] - 18s 10ms/step - loss: 0.0280 - accuracy: 0.9902 - val_loss: 0.6591 - val_accuracy: 0.9042\n",
            "Epoch 20/20\n",
            "1875/1875 [==============================] - 18s 10ms/step - loss: 0.0283 - accuracy: 0.9908 - val_loss: 0.6538 - val_accuracy: 0.9012\n"
          ]
        }
      ],
      "source": [
        "#Compile and fit\n",
        "model.compile (optimizer = 'adam', loss= 'sparse_categorical_crossentropy', metrics = ('accuracy'))\n",
        "r = model.fit(x_train, y_train, validation_data = (x_test, y_test), epochs = 20)"
      ]
    },
    {
      "cell_type": "code",
      "execution_count": 8,
      "metadata": {
        "id": "DlG2qpDDCzGN",
        "colab": {
          "base_uri": "https://localhost:8080/",
          "height": 283
        },
        "outputId": "dc5c7147-664e-42b9-addf-c921012b5a83"
      },
      "outputs": [
        {
          "output_type": "execute_result",
          "data": {
            "text/plain": [
              "<matplotlib.legend.Legend at 0x7f106b731d50>"
            ]
          },
          "metadata": {},
          "execution_count": 8
        },
        {
          "output_type": "display_data",
          "data": {
            "text/plain": [
              "<Figure size 432x288 with 1 Axes>"
            ],
            "image/png": "[encoded data removed]"
          },
          "metadata": {
            "needs_background": "light"
          }
        }
      ],
      "source": [
        "#Plot for Loss per Iteration\n",
        "import matplotlib.pyplot as plt\n",
        "plt.plot(r.history['loss'], label = 'loss')\n",
        "plt.plot(r.history['val_loss'], label = 'val_loss')\n",
        "plt.legend()"
      ]
    },
    {
      "cell_type": "code",
      "source": [
        "#Plot for Accuracy Per Iteration\n",
        "plt.plot(r.history['accuracy'], label = 'accuracy')\n",
        "plt.plot(r.history['val_accuracy'], label = 'val_acc')\n",
        "plt.legend()"
      ],
      "metadata": {
        "colab": {
          "base_uri": "https://localhost:8080/",
          "height": 283
        },
        "id": "osVJPKqEKuaJ",
        "outputId": "a98c1bf9-6d54-4baa-b570-3470a7d62162"
      },
      "execution_count": 9,
      "outputs": [
        {
          "output_type": "execute_result",
          "data": {
            "text/plain": [
              "<matplotlib.legend.Legend at 0x7f106b69dbd0>"
            ]
          },
          "metadata": {},
          "execution_count": 9
        },
        {
          "output_type": "display_data",
          "data": {
            "text/plain": [
              "<Figure size 432x288 with 1 Axes>"
            ],
            "image/png": "[encoded data removed]"
          },
          "metadata": {
            "needs_background": "light"
          }
        }
      ]
    },
    {
      "cell_type": "code",
      "source": [
        "#Plot for Confusion Matrix\n",
        "from sklearn.metrics import confusion_matrix\n",
        "import itertools\n",
        "\n",
        "def plot_confusion_matrix(cm, classes, normalize = False, title = 'confusion_matrix', cmap = plt.cm.Blues):\n",
        "  \"\"\"\n",
        "  This function prints and plots the confusion matrix\n",
        "  Normalization can be applied by setting normalize = True\n",
        "  \"\"\"\n",
        "  if normalize:\n",
        "    cm = cm.astype('float')/cm.sum(axis = 1) [:, np.newaxis]\n",
        "    print ('Normalized Confusion Matrix')\n",
        "  else:\n",
        "    print ('Confusion, Matrix without Normalization')\n",
        "  print (cm)\n",
        "\n",
        "  plt.imshow(cm, interpolation = 'nearest', cmap = cmap)\n",
        "  plt.title(title)\n",
        "  plt.colorbar()\n",
        "  tick_marks = np.arange(len(classes))\n",
        "  plt.xticks(tick_marks, classes, rotation = 45)\n",
        "  plt.yticks(tick_marks, classes)\n",
        "\n",
        "  fmt = '.2f' if normalize else 'd'\n",
        "  thresh = cm.max()/2\n",
        "  for i, j in itertools.product(range(cm.shape[0]), range (cm.shape[1])):\n",
        "    plt.text(j, i, format(cm[i,j], fmt), horizontalalignment = 'center', color = 'white' if cm [i,j] > thresh else 'black')\n",
        "  \n",
        "  plt.tight_layout()\n",
        "  plt.ylabel('True Label')\n",
        "  plt.xlabel('Predicted Label')\n",
        "  plt.show()\n",
        "\n",
        "p_test = model.predict (x_test).argmax(axis = 1)\n",
        "cm = confusion_matrix(y_test, p_test)\n",
        "plot_confusion_matrix(cm, list(range(10)))\n"
      ],
      "metadata": {
        "colab": {
          "base_uri": "https://localhost:8080/",
          "height": 508
        },
        "id": "lAYjMKuWLKke",
        "outputId": "a3b25f9f-d390-41d9-ebaa-c01fa2b3b2fe"
      },
      "execution_count": 10,
      "outputs": [
        {
          "output_type": "stream",
          "name": "stdout",
          "text": [
            "Confusion, Matrix without Normalization\n",
            "[[834   0  22  15   4   3 117   0   5   0]\n",
            " [  1 982   0  11   2   0   1   0   3   0]\n",
            " [ 16   1 874   6  45   0  54   0   2   2]\n",
            " [ 13   4  14 892  35   0  40   0   2   0]\n",
            " [  0   0 107  30 793   0  68   0   2   0]\n",
            " [  0   0   0   0   0 974   0  13   0  13]\n",
            " [ 92   1  73  18  55   0 751   0   8   2]\n",
            " [  0   0   0   0   0   6   0 969   1  24]\n",
            " [  2   3   2   4   1   1   7   2 977   1]\n",
            " [  0   0   0   0   0   5   0  29   0 966]]\n"
          ]
        },
        {
          "output_type": "display_data",
          "data": {
            "text/plain": [
              "<Figure size 432x288 with 2 Axes>"
            ],
            "image/png": "[encoded data removed]"
          },
          "metadata": {
            "needs_background": "light"
          }
        }
      ]
    },
    {
      "cell_type": "code",
      "source": [
        "#label mapping\n",
        "labels = '''T-shirt/top\n",
        "Trouser\n",
        "Pullover\n",
        "Dress\n",
        "Coat\n",
        "Sandal\n",
        "Shirt\n",
        "Sneaker\n",
        "Bag\n",
        "Ankle boot'''.split()"
      ],
      "metadata": {
        "id": "rAQhM0uRYkyD"
      },
      "execution_count": 11,
      "outputs": []
    },
    {
      "cell_type": "code",
      "source": [
        "#Some Misclassified Examples\n",
        "misclassified_idx = np.where(p_test != y_test)[0]\n",
        "i = np.random.choice(misclassified_idx)\n",
        "plt.imshow(x_test[i].reshape(28,28), cmap = 'gray')\n",
        "plt.title('True Label: %s Predicted: %s' %(labels[y_test[i]], labels[p_test[i]]));"
      ],
      "metadata": {
        "colab": {
          "base_uri": "https://localhost:8080/",
          "height": 281
        },
        "id": "pnpai_SMVPi7",
        "outputId": "6fe56e5d-541e-4b16-bfb6-06095ad3bfdb"
      },
      "execution_count": 12,
      "outputs": [
        {
          "output_type": "display_data",
          "data": {
            "text/plain": [
              "<Figure size 432x288 with 1 Axes>"
            ],
            "image/png": "[encoded data removed]"
          },
          "metadata": {
            "needs_background": "light"
          }
        }
      ]
    },
    {
      "cell_type": "code",
      "source": [
        ""
      ],
      "metadata": {
        "id": "eg1OkKo5XShZ"
      },
      "execution_count": 12,
      "outputs": []
    }
  ],
  "metadata": {
    "colab": {
      "name": "Untitled9.ipynb",
      "provenance": [],
      "collapsed_sections": [],
      "authorship_tag": "ABX9TyNgI+bcoSYymKFmIvbokMvT",
      "include_colab_link": true
    },
    "kernelspec": {
      "display_name": "Python 3",
      "name": "python3"
    },
    "language_info": {
      "name": "python"
    },
    "accelerator": "GPU"
  },
  "nbformat": 4,
  "nbformat_minor": 0
}